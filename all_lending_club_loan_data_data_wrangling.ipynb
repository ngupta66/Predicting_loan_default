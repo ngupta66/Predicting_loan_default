{
 "cells": [
  {
   "cell_type": "code",
   "execution_count": 1,
   "metadata": {},
   "outputs": [],
   "source": [
    "%matplotlib inline\n",
    "\n",
    "# import required libraries\n",
    "import pandas as pd\n",
    "import matplotlib.pyplot as plt\n",
    "import numpy as np\n",
    "#import scipy.stats as stats\n",
    "import seaborn as sns\n",
    "sns.set()"
   ]
  },
  {
   "cell_type": "code",
   "execution_count": 2,
   "metadata": {},
   "outputs": [],
   "source": [
    "# suppress warnings\n",
    "import warnings\n",
    "warnings.filterwarnings(\"ignore\", category=DeprecationWarning) \n",
    "warnings.filterwarnings(\"ignore\", category=FutureWarning) "
   ]
  },
  {
   "cell_type": "code",
   "execution_count": 3,
   "metadata": {},
   "outputs": [],
   "source": [
    "# read 'accepted_2007_to_2018Q2.csv'  dataset as a dataframe\n",
    "df = pd.read_csv('accepted_2007_to_2018Q2.csv', low_memory =  False)"
   ]
  },
  {
   "cell_type": "code",
   "execution_count": 4,
   "metadata": {},
   "outputs": [
    {
     "data": {
      "text/plain": [
       "(2004126, 151)"
      ]
     },
     "execution_count": 4,
     "metadata": {},
     "output_type": "execute_result"
    }
   ],
   "source": [
    "# display shape of the dataframe\n",
    "df.shape"
   ]
  },
  {
   "cell_type": "code",
   "execution_count": 5,
   "metadata": {},
   "outputs": [
    {
     "name": "stdout",
     "output_type": "stream",
     "text": [
      "<class 'pandas.core.frame.DataFrame'>\n",
      "RangeIndex: 2004126 entries, 0 to 2004125\n",
      "Data columns (total 151 columns):\n",
      "id                                            2004126 non-null object\n",
      "member_id                                     1 non-null float64\n",
      "loan_amnt                                     2004097 non-null float64\n",
      "funded_amnt                                   2004097 non-null float64\n",
      "funded_amnt_inv                               2004097 non-null float64\n",
      "term                                          2004097 non-null object\n",
      "int_rate                                      2004097 non-null float64\n",
      "installment                                   2004097 non-null float64\n",
      "grade                                         2004097 non-null object\n",
      "sub_grade                                     2004097 non-null object\n",
      "emp_title                                     1871509 non-null object\n",
      "emp_length                                    1879278 non-null object\n",
      "home_ownership                                2004097 non-null object\n",
      "annual_inc                                    2004093 non-null float64\n",
      "verification_status                           2004097 non-null object\n",
      "issue_d                                       2004097 non-null object\n",
      "loan_status                                   2004097 non-null object\n",
      "pymnt_plan                                    2004097 non-null object\n",
      "url                                           2004097 non-null object\n",
      "desc                                          126068 non-null object\n",
      "purpose                                       2004097 non-null object\n",
      "title                                         1980772 non-null object\n",
      "zip_code                                      2004096 non-null object\n",
      "addr_state                                    2004097 non-null object\n",
      "dti                                           2002930 non-null float64\n",
      "delinq_2yrs                                   2004068 non-null float64\n",
      "earliest_cr_line                              2004068 non-null object\n",
      "fico_range_low                                2004097 non-null float64\n",
      "fico_range_high                               2004097 non-null float64\n",
      "inq_last_6mths                                2004067 non-null float64\n",
      "mths_since_last_delinq                        989159 non-null float64\n",
      "mths_since_last_record                        328008 non-null float64\n",
      "open_acc                                      2004068 non-null float64\n",
      "pub_rec                                       2004068 non-null float64\n",
      "revol_bal                                     2004096 non-null float64\n",
      "revol_util                                    2002579 non-null float64\n",
      "total_acc                                     2004067 non-null float64\n",
      "initial_list_status                           2004096 non-null object\n",
      "out_prncp                                     2004096 non-null float64\n",
      "out_prncp_inv                                 2004096 non-null float64\n",
      "total_pymnt                                   2004096 non-null float64\n",
      "total_pymnt_inv                               2004096 non-null float64\n",
      "total_rec_prncp                               2004096 non-null float64\n",
      "total_rec_int                                 2004096 non-null float64\n",
      "total_rec_late_fee                            2004096 non-null float64\n",
      "recoveries                                    2004096 non-null float64\n",
      "collection_recovery_fee                       2004096 non-null float64\n",
      "last_pymnt_d                                  2001950 non-null object\n",
      "last_pymnt_amnt                               2004096 non-null float64\n",
      "next_pymnt_d                                  1160155 non-null object\n",
      "last_credit_pull_d                            2004022 non-null object\n",
      "last_fico_range_high                          2004096 non-null float64\n",
      "last_fico_range_low                           2004096 non-null float64\n",
      "collections_12_mths_ex_med                    2003950 non-null float64\n",
      "mths_since_last_major_derog                   521770 non-null float64\n",
      "policy_code                                   2004095 non-null float64\n",
      "application_type                              2004095 non-null object\n",
      "annual_inc_joint                              86148 non-null float64\n",
      "dti_joint                                     86144 non-null float64\n",
      "verification_status_joint                     85157 non-null object\n",
      "acc_now_delinq                                2004066 non-null float64\n",
      "tot_coll_amt                                  1933819 non-null float64\n",
      "tot_cur_bal                                   1933819 non-null float64\n",
      "open_acc_6m                                   1137965 non-null float64\n",
      "open_act_il                                   1137966 non-null float64\n",
      "open_il_12m                                   1137966 non-null float64\n",
      "open_il_24m                                   1137967 non-null object\n",
      "mths_since_rcnt_il                            1103258 non-null float64\n",
      "total_bal_il                                  1137966 non-null float64\n",
      "il_util                                       976028 non-null float64\n",
      "open_rv_12m                                   1137966 non-null float64\n",
      "open_rv_24m                                   1137966 non-null float64\n",
      "max_bal_bc                                    1137966 non-null float64\n",
      "all_util                                      1137813 non-null float64\n",
      "total_rev_hi_lim                              1933819 non-null float64\n",
      "inq_fi                                        1137966 non-null float64\n",
      "total_cu_tl                                   1137965 non-null float64\n",
      "inq_last_12m                                  1137965 non-null float64\n",
      "acc_open_past_24mths                          1954065 non-null float64\n",
      "avg_cur_bal                                   1933774 non-null float64\n",
      "bc_open_to_buy                                1932498 non-null float64\n",
      "bc_util                                       1931475 non-null object\n",
      "chargeoff_within_12_mths                      2003951 non-null object\n",
      "delinq_amnt                                   2004066 non-null float64\n",
      "mo_sin_old_il_acct                            1874111 non-null float64\n",
      "mo_sin_old_rev_tl_op                          1933818 non-null float64\n",
      "mo_sin_rcnt_rev_tl_op                         1933818 non-null float64\n",
      "mo_sin_rcnt_tl                                1933819 non-null float64\n",
      "mort_acc                                      1954065 non-null float64\n",
      "mths_since_recent_bc                          1933824 non-null float64\n",
      "mths_since_recent_bc_dlq                      469113 non-null float64\n",
      "mths_since_recent_inq                         1740719 non-null float64\n",
      "mths_since_recent_revol_delinq                666503 non-null float64\n",
      "num_accts_ever_120_pd                         1933819 non-null float64\n",
      "num_actv_bc_tl                                1933819 non-null float64\n",
      "num_actv_rev_tl                               1933819 non-null float64\n",
      "num_bc_sats                                   1945505 non-null float64\n",
      "num_bc_tl                                     1933819 non-null float64\n",
      "num_il_tl                                     1933819 non-null float64\n",
      "num_op_rev_tl                                 1933819 non-null float64\n",
      "num_rev_accts                                 1933818 non-null float64\n",
      "num_rev_tl_bal_gt_0                           1933819 non-null float64\n",
      "num_sats                                      1945505 non-null float64\n",
      "num_tl_120dpd_2m                              1856550 non-null float64\n",
      "num_tl_30dpd                                  1933819 non-null float64\n",
      "num_tl_90g_dpd_24m                            1933819 non-null float64\n",
      "num_tl_op_past_12m                            1933819 non-null float64\n",
      "pct_tl_nvr_dlq                                1933665 non-null float64\n",
      "percent_bc_gt_75                              1932057 non-null float64\n",
      "pub_rec_bankruptcies                          2002730 non-null float64\n",
      "tax_liens                                     2003990 non-null float64\n",
      "tot_hi_cred_lim                               1933819 non-null float64\n",
      "total_bal_ex_mort                             1954065 non-null float64\n",
      "total_bc_limit                                1954065 non-null float64\n",
      "total_il_high_credit_limit                    1933819 non-null float64\n",
      "revol_bal_joint                               73458 non-null float64\n",
      "sec_app_fico_range_low                        73459 non-null float64\n",
      "sec_app_fico_range_high                       73459 non-null float64\n",
      "sec_app_earliest_cr_line                      73459 non-null object\n",
      "sec_app_inq_last_6mths                        73459 non-null float64\n",
      "sec_app_mort_acc                              73459 non-null float64\n",
      "sec_app_open_acc                              73459 non-null float64\n",
      "sec_app_revol_util                            72190 non-null float64\n",
      "sec_app_open_act_il                           73459 non-null float64\n",
      "sec_app_num_rev_accts                         73459 non-null float64\n",
      "sec_app_chargeoff_within_12_mths              73459 non-null float64\n",
      "sec_app_collections_12_mths_ex_med            73459 non-null float64\n",
      "sec_app_mths_since_last_major_derog           25177 non-null float64\n",
      "hardship_flag                                 2004095 non-null object\n",
      "hardship_type                                 5818 non-null object\n",
      "hardship_reason                               5818 non-null object\n",
      "hardship_status                               5818 non-null object\n",
      "deferral_term                                 5818 non-null float64\n",
      "hardship_amount                               5818 non-null float64\n",
      "hardship_start_date                           5818 non-null object\n",
      "hardship_end_date                             5818 non-null object\n",
      "payment_plan_start_date                       5818 non-null object\n",
      "hardship_length                               5818 non-null float64\n",
      "hardship_dpd                                  5818 non-null float64\n",
      "hardship_loan_status                          5818 non-null object\n",
      "orig_projected_additional_accrued_interest    4861 non-null float64\n",
      "hardship_payoff_balance_amount                5818 non-null float64\n",
      "hardship_last_payment_amount                  5818 non-null float64\n",
      "disbursement_method                           2004095 non-null object\n",
      "debt_settlement_flag                          2004095 non-null object\n",
      "debt_settlement_flag_date                     13405 non-null object\n",
      "settlement_status                             13405 non-null object\n",
      "settlement_date                               13405 non-null object\n",
      "settlement_amount                             13405 non-null float64\n",
      "settlement_percentage                         13405 non-null float64\n",
      "settlement_term                               13405 non-null float64\n",
      "dtypes: float64(110), object(41)\n",
      "memory usage: 2.3+ GB\n"
     ]
    }
   ],
   "source": [
    "# display info of the dataset\n",
    "df.info(verbose = True, null_counts = True)"
   ]
  },
  {
   "cell_type": "code",
   "execution_count": 6,
   "metadata": {},
   "outputs": [
    {
     "data": {
      "text/html": [
       "<div>\n",
       "<style scoped>\n",
       "    .dataframe tbody tr th:only-of-type {\n",
       "        vertical-align: middle;\n",
       "    }\n",
       "\n",
       "    .dataframe tbody tr th {\n",
       "        vertical-align: top;\n",
       "    }\n",
       "\n",
       "    .dataframe thead th {\n",
       "        text-align: right;\n",
       "    }\n",
       "</style>\n",
       "<table border=\"1\" class=\"dataframe\">\n",
       "  <thead>\n",
       "    <tr style=\"text-align: right;\">\n",
       "      <th></th>\n",
       "      <th>id</th>\n",
       "      <th>member_id</th>\n",
       "      <th>loan_amnt</th>\n",
       "      <th>funded_amnt</th>\n",
       "      <th>funded_amnt_inv</th>\n",
       "      <th>term</th>\n",
       "      <th>int_rate</th>\n",
       "      <th>installment</th>\n",
       "      <th>grade</th>\n",
       "      <th>sub_grade</th>\n",
       "      <th>...</th>\n",
       "      <th>hardship_payoff_balance_amount</th>\n",
       "      <th>hardship_last_payment_amount</th>\n",
       "      <th>disbursement_method</th>\n",
       "      <th>debt_settlement_flag</th>\n",
       "      <th>debt_settlement_flag_date</th>\n",
       "      <th>settlement_status</th>\n",
       "      <th>settlement_date</th>\n",
       "      <th>settlement_amount</th>\n",
       "      <th>settlement_percentage</th>\n",
       "      <th>settlement_term</th>\n",
       "    </tr>\n",
       "  </thead>\n",
       "  <tbody>\n",
       "    <tr>\n",
       "      <th>0</th>\n",
       "      <td>38098114</td>\n",
       "      <td>NaN</td>\n",
       "      <td>15000.0</td>\n",
       "      <td>15000.0</td>\n",
       "      <td>15000.0</td>\n",
       "      <td>60 months</td>\n",
       "      <td>12.39</td>\n",
       "      <td>336.64</td>\n",
       "      <td>C</td>\n",
       "      <td>C1</td>\n",
       "      <td>...</td>\n",
       "      <td>NaN</td>\n",
       "      <td>NaN</td>\n",
       "      <td>Cash</td>\n",
       "      <td>N</td>\n",
       "      <td>NaN</td>\n",
       "      <td>NaN</td>\n",
       "      <td>NaN</td>\n",
       "      <td>NaN</td>\n",
       "      <td>NaN</td>\n",
       "      <td>NaN</td>\n",
       "    </tr>\n",
       "    <tr>\n",
       "      <th>1</th>\n",
       "      <td>36805548</td>\n",
       "      <td>NaN</td>\n",
       "      <td>10400.0</td>\n",
       "      <td>10400.0</td>\n",
       "      <td>10400.0</td>\n",
       "      <td>36 months</td>\n",
       "      <td>6.99</td>\n",
       "      <td>321.08</td>\n",
       "      <td>A</td>\n",
       "      <td>A3</td>\n",
       "      <td>...</td>\n",
       "      <td>NaN</td>\n",
       "      <td>NaN</td>\n",
       "      <td>Cash</td>\n",
       "      <td>N</td>\n",
       "      <td>NaN</td>\n",
       "      <td>NaN</td>\n",
       "      <td>NaN</td>\n",
       "      <td>NaN</td>\n",
       "      <td>NaN</td>\n",
       "      <td>NaN</td>\n",
       "    </tr>\n",
       "    <tr>\n",
       "      <th>2</th>\n",
       "      <td>37842129</td>\n",
       "      <td>NaN</td>\n",
       "      <td>21425.0</td>\n",
       "      <td>21425.0</td>\n",
       "      <td>21425.0</td>\n",
       "      <td>60 months</td>\n",
       "      <td>15.59</td>\n",
       "      <td>516.36</td>\n",
       "      <td>D</td>\n",
       "      <td>D1</td>\n",
       "      <td>...</td>\n",
       "      <td>NaN</td>\n",
       "      <td>NaN</td>\n",
       "      <td>Cash</td>\n",
       "      <td>N</td>\n",
       "      <td>NaN</td>\n",
       "      <td>NaN</td>\n",
       "      <td>NaN</td>\n",
       "      <td>NaN</td>\n",
       "      <td>NaN</td>\n",
       "      <td>NaN</td>\n",
       "    </tr>\n",
       "    <tr>\n",
       "      <th>3</th>\n",
       "      <td>37612354</td>\n",
       "      <td>NaN</td>\n",
       "      <td>12800.0</td>\n",
       "      <td>12800.0</td>\n",
       "      <td>12800.0</td>\n",
       "      <td>60 months</td>\n",
       "      <td>17.14</td>\n",
       "      <td>319.08</td>\n",
       "      <td>D</td>\n",
       "      <td>D4</td>\n",
       "      <td>...</td>\n",
       "      <td>NaN</td>\n",
       "      <td>NaN</td>\n",
       "      <td>Cash</td>\n",
       "      <td>N</td>\n",
       "      <td>NaN</td>\n",
       "      <td>NaN</td>\n",
       "      <td>NaN</td>\n",
       "      <td>NaN</td>\n",
       "      <td>NaN</td>\n",
       "      <td>NaN</td>\n",
       "    </tr>\n",
       "    <tr>\n",
       "      <th>4</th>\n",
       "      <td>37662224</td>\n",
       "      <td>NaN</td>\n",
       "      <td>7650.0</td>\n",
       "      <td>7650.0</td>\n",
       "      <td>7650.0</td>\n",
       "      <td>36 months</td>\n",
       "      <td>13.66</td>\n",
       "      <td>260.20</td>\n",
       "      <td>C</td>\n",
       "      <td>C3</td>\n",
       "      <td>...</td>\n",
       "      <td>NaN</td>\n",
       "      <td>NaN</td>\n",
       "      <td>Cash</td>\n",
       "      <td>N</td>\n",
       "      <td>NaN</td>\n",
       "      <td>NaN</td>\n",
       "      <td>NaN</td>\n",
       "      <td>NaN</td>\n",
       "      <td>NaN</td>\n",
       "      <td>NaN</td>\n",
       "    </tr>\n",
       "  </tbody>\n",
       "</table>\n",
       "<p>5 rows × 151 columns</p>\n",
       "</div>"
      ],
      "text/plain": [
       "         id  member_id  loan_amnt  funded_amnt  funded_amnt_inv        term  \\\n",
       "0  38098114        NaN    15000.0      15000.0          15000.0   60 months   \n",
       "1  36805548        NaN    10400.0      10400.0          10400.0   36 months   \n",
       "2  37842129        NaN    21425.0      21425.0          21425.0   60 months   \n",
       "3  37612354        NaN    12800.0      12800.0          12800.0   60 months   \n",
       "4  37662224        NaN     7650.0       7650.0           7650.0   36 months   \n",
       "\n",
       "   int_rate  installment grade sub_grade       ...        \\\n",
       "0     12.39       336.64     C        C1       ...         \n",
       "1      6.99       321.08     A        A3       ...         \n",
       "2     15.59       516.36     D        D1       ...         \n",
       "3     17.14       319.08     D        D4       ...         \n",
       "4     13.66       260.20     C        C3       ...         \n",
       "\n",
       "  hardship_payoff_balance_amount hardship_last_payment_amount  \\\n",
       "0                            NaN                          NaN   \n",
       "1                            NaN                          NaN   \n",
       "2                            NaN                          NaN   \n",
       "3                            NaN                          NaN   \n",
       "4                            NaN                          NaN   \n",
       "\n",
       "  disbursement_method  debt_settlement_flag debt_settlement_flag_date  \\\n",
       "0                Cash                     N                       NaN   \n",
       "1                Cash                     N                       NaN   \n",
       "2                Cash                     N                       NaN   \n",
       "3                Cash                     N                       NaN   \n",
       "4                Cash                     N                       NaN   \n",
       "\n",
       "  settlement_status settlement_date settlement_amount settlement_percentage  \\\n",
       "0               NaN             NaN               NaN                   NaN   \n",
       "1               NaN             NaN               NaN                   NaN   \n",
       "2               NaN             NaN               NaN                   NaN   \n",
       "3               NaN             NaN               NaN                   NaN   \n",
       "4               NaN             NaN               NaN                   NaN   \n",
       "\n",
       "  settlement_term  \n",
       "0             NaN  \n",
       "1             NaN  \n",
       "2             NaN  \n",
       "3             NaN  \n",
       "4             NaN  \n",
       "\n",
       "[5 rows x 151 columns]"
      ]
     },
     "execution_count": 6,
     "metadata": {},
     "output_type": "execute_result"
    }
   ],
   "source": [
    "#display sample data from the head of the dataset\n",
    "df.head(5)"
   ]
  },
  {
   "cell_type": "code",
   "execution_count": 7,
   "metadata": {},
   "outputs": [],
   "source": [
    "# Filtered columns which have at least 100,000 empty values\n",
    "cols = []\n",
    "for i in  range(0,len(df.columns)):\n",
    "    if (df.iloc[:,i].notna().sum() <= 100000):\n",
    "        cols.append(i)\n",
    "\n",
    "df1 = df.drop(df.columns[cols],1)"
   ]
  },
  {
   "cell_type": "code",
   "execution_count": 8,
   "metadata": {},
   "outputs": [],
   "source": [
    "# Filtered columns manually which are not useful in this analysis\n",
    "cols1 = ['emp_title', 'emp_length', 'url', 'desc', 'title', 'mths_since_last_delinq', 'mths_since_last_record',\n",
    "        'next_pymnt_d', 'mths_since_last_major_derog', 'tot_coll_amt', 'open_acc_6m', 'open_act_il', 'open_il_12m',\n",
    "         'open_il_24m', 'mths_since_rcnt_il', 'total_bal_il', 'il_util', 'open_rv_12m', 'open_rv_24m', 'max_bal_bc',\n",
    "       'all_util', 'inq_fi', 'total_cu_tl', 'inq_last_12m', 'mths_since_recent_bc_dlq', 'mths_since_recent_inq',\n",
    "       'mths_since_recent_revol_delinq', 'disbursement_method', 'debt_settlement_flag', 'zip_code', 'addr_state']\n",
    "df2 = df1.drop(cols1, 1)"
   ]
  },
  {
   "cell_type": "code",
   "execution_count": 9,
   "metadata": {},
   "outputs": [],
   "source": [
    "# Filter  rows which have empty loan amount and then reset index \n",
    "rows = []\n",
    "temp = df2.loan_amnt.isna()\n",
    "for i in range(0, len(temp)):\n",
    "    if (temp[i]):\n",
    "        rows.append(i)\n",
    "        \n",
    "df3 = df2.drop(rows, 0)\n",
    "df3 = df3.reset_index(drop=True)"
   ]
  },
  {
   "cell_type": "code",
   "execution_count": 10,
   "metadata": {},
   "outputs": [
    {
     "name": "stdout",
     "output_type": "stream",
     "text": [
      "['C' 'A' 'D' 'B' 'E' 'F' 'G' '2.0']\n",
      "['C1' 'A3' 'D1' 'D4' 'C3' 'B5' 'B4' 'C4' 'D5' 'E5' 'B3' 'C5' 'D2' 'E3'\n",
      " 'C2' 'B2' 'E4' 'A4' 'D3' 'B1' 'A5' 'F1' 'E1' 'E2' 'G2' 'G1' 'F3' 'F2'\n",
      " 'A1' 'A2' 'G3' 'F4' 'G4' 'F5' 'G5' '3.0']\n"
     ]
    }
   ],
   "source": [
    "# Convert data type of grade and sub_grade columns into Categorical data type\n",
    "print(df3.grade.unique())\n",
    "print(df3.sub_grade.unique())"
   ]
  },
  {
   "cell_type": "code",
   "execution_count": 11,
   "metadata": {},
   "outputs": [
    {
     "data": {
      "text/plain": [
       "C1     131885\n",
       "B5     126571\n",
       "B4     122532\n",
       "B3     120025\n",
       "C2     118865\n",
       "C3     115796\n",
       "C4     115522\n",
       "B1     112032\n",
       "B2     111766\n",
       "C5     105405\n",
       "A5      92656\n",
       "A4      78140\n",
       "D1      73241\n",
       "A1      68650\n",
       "D2      64872\n",
       "A3      60465\n",
       "A2      57734\n",
       "D3      57552\n",
       "D4      50697\n",
       "D5      42944\n",
       "E1      30713\n",
       "E2      28105\n",
       "E3      24733\n",
       "E4      21064\n",
       "E5      20106\n",
       "F1      12773\n",
       "F2       8945\n",
       "F3       7546\n",
       "F4       5962\n",
       "F5       5004\n",
       "G1       3875\n",
       "G2       2617\n",
       "G3       2062\n",
       "G4       1695\n",
       "G5       1546\n",
       "3.0         1\n",
       "Name: sub_grade, dtype: int64"
      ]
     },
     "execution_count": 11,
     "metadata": {},
     "output_type": "execute_result"
    }
   ],
   "source": [
    "df3.sub_grade.value_counts()"
   ]
  },
  {
   "cell_type": "code",
   "execution_count": 12,
   "metadata": {},
   "outputs": [
    {
     "data": {
      "text/plain": [
       "B      592926\n",
       "C      587473\n",
       "A      357645\n",
       "D      289306\n",
       "E      124721\n",
       "F       40230\n",
       "G       11795\n",
       "2.0         1\n",
       "Name: grade, dtype: int64"
      ]
     },
     "execution_count": 12,
     "metadata": {},
     "output_type": "execute_result"
    }
   ],
   "source": [
    "df3.grade.value_counts()"
   ]
  },
  {
   "cell_type": "code",
   "execution_count": 13,
   "metadata": {},
   "outputs": [
    {
     "name": "stdout",
     "output_type": "stream",
     "text": [
      "grade 2004062\n",
      "sub_grade 2004062\n"
     ]
    }
   ],
   "source": [
    "for i in range(0, df3.grade.count()):\n",
    "    if (str(df3.grade[i]) == '2.0'):\n",
    "        print('grade', i)\n",
    "    if (df3.sub_grade[i] == '3.0'):\n",
    "        print('sub_grade', i)"
   ]
  },
  {
   "cell_type": "code",
   "execution_count": 14,
   "metadata": {},
   "outputs": [],
   "source": [
    "# found from above analysis that one row doesn't have the correct category for both 'grade' and 'sub_grade' columns\n",
    "# Remove that entry\n",
    "r = []\n",
    "for i in range(0, df3.grade.count()):\n",
    "    if (str(df3.grade[i]) == '2.0'):\n",
    "       r.append(i)\n",
    "df4 = df3.drop(r, 0)\n",
    "df4 = df4.reset_index(drop=True)"
   ]
  },
  {
   "cell_type": "code",
   "execution_count": 15,
   "metadata": {},
   "outputs": [],
   "source": [
    "df4['grade'] = df4['grade'].astype('category')\n",
    "df4['sub_grade'] = df4['sub_grade'].astype('category')"
   ]
  },
  {
   "cell_type": "code",
   "execution_count": 16,
   "metadata": {},
   "outputs": [],
   "source": [
    "df4['id'] = df4['id'].astype(float)"
   ]
  },
  {
   "cell_type": "code",
   "execution_count": 17,
   "metadata": {},
   "outputs": [],
   "source": [
    "df4['issue_d'] = pd.to_datetime(df4['issue_d'], format='%b-%Y')\n",
    "df4['earliest_cr_line'] = pd.to_datetime(df4['earliest_cr_line'], format='%b-%Y')\n",
    "df4['last_pymnt_d'] = pd.to_datetime(df4['last_pymnt_d'], format='%b-%Y')\n",
    "df4['last_credit_pull_d'] = pd.to_datetime(df4['last_credit_pull_d'], format='%b-%Y')"
   ]
  },
  {
   "cell_type": "code",
   "execution_count": 18,
   "metadata": {},
   "outputs": [],
   "source": [
    "df4.loan_status.unique()\n",
    "df4['loan_status'] = df4['loan_status'].astype('category')"
   ]
  },
  {
   "cell_type": "code",
   "execution_count": 19,
   "metadata": {},
   "outputs": [
    {
     "data": {
      "text/plain": [
       "array(['Individual', 'Joint App', nan], dtype=object)"
      ]
     },
     "execution_count": 19,
     "metadata": {},
     "output_type": "execute_result"
    }
   ],
   "source": [
    "df4.application_type.unique()\n"
   ]
  },
  {
   "cell_type": "code",
   "execution_count": 20,
   "metadata": {},
   "outputs": [],
   "source": [
    "df4['application_type'] = df4['application_type'].astype('category')"
   ]
  },
  {
   "cell_type": "code",
   "execution_count": 21,
   "metadata": {},
   "outputs": [
    {
     "data": {
      "text/plain": [
       "0"
      ]
     },
     "execution_count": 21,
     "metadata": {},
     "output_type": "execute_result"
    }
   ],
   "source": [
    "#fill empty cells of column 'annual_inc' with median of the column\n",
    "df4.annual_inc = df4.annual_inc.fillna(df.annual_inc.median())\n",
    "df4.annual_inc.isnull().sum()"
   ]
  },
  {
   "cell_type": "code",
   "execution_count": 22,
   "metadata": {},
   "outputs": [
    {
     "data": {
      "text/plain": [
       "count    2.004096e+06\n",
       "mean     7.754639e+04\n",
       "std      1.148541e+05\n",
       "min      0.000000e+00\n",
       "25%      4.600000e+04\n",
       "50%      6.500000e+04\n",
       "75%      9.200000e+04\n",
       "max      1.100000e+08\n",
       "Name: annual_inc, dtype: float64"
      ]
     },
     "execution_count": 22,
     "metadata": {},
     "output_type": "execute_result"
    }
   ],
   "source": [
    "# Find outliers and remove them\n",
    "df4.annual_inc.describe()"
   ]
  },
  {
   "cell_type": "code",
   "execution_count": 23,
   "metadata": {},
   "outputs": [],
   "source": [
    "# remove rows that have 'annual_inc' > 300000 and 'annual_inc' == 0\n",
    "r = []\n",
    "for i in range(0, df4.annual_inc.count()):\n",
    "    if (df4.annual_inc[i] > 300000.0 or df4.annual_inc[i] == 0.0):\n",
    "       r.append(i)"
   ]
  },
  {
   "cell_type": "code",
   "execution_count": 24,
   "metadata": {},
   "outputs": [],
   "source": [
    "df5 = df4.drop(r, 0)\n",
    "df5 = df5.reset_index(drop=True)"
   ]
  },
  {
   "cell_type": "code",
   "execution_count": 25,
   "metadata": {},
   "outputs": [
    {
     "data": {
      "text/plain": [
       "count    1.990206e+06\n",
       "mean     7.467362e+04\n",
       "std      4.180165e+04\n",
       "min      3.600000e-01\n",
       "25%      4.600000e+04\n",
       "50%      6.500000e+04\n",
       "75%      9.136725e+04\n",
       "max      3.000000e+05\n",
       "Name: annual_inc, dtype: float64"
      ]
     },
     "execution_count": 25,
     "metadata": {},
     "output_type": "execute_result"
    }
   ],
   "source": [
    "df5.annual_inc.describe()"
   ]
  },
  {
   "cell_type": "code",
   "execution_count": 26,
   "metadata": {},
   "outputs": [
    {
     "data": {
      "text/html": [
       "<div>\n",
       "<style scoped>\n",
       "    .dataframe tbody tr th:only-of-type {\n",
       "        vertical-align: middle;\n",
       "    }\n",
       "\n",
       "    .dataframe tbody tr th {\n",
       "        vertical-align: top;\n",
       "    }\n",
       "\n",
       "    .dataframe thead th {\n",
       "        text-align: right;\n",
       "    }\n",
       "</style>\n",
       "<table border=\"1\" class=\"dataframe\">\n",
       "  <thead>\n",
       "    <tr style=\"text-align: right;\">\n",
       "      <th></th>\n",
       "      <th>id</th>\n",
       "      <th>loan_amnt</th>\n",
       "      <th>funded_amnt</th>\n",
       "      <th>funded_amnt_inv</th>\n",
       "      <th>term</th>\n",
       "      <th>int_rate</th>\n",
       "      <th>installment</th>\n",
       "      <th>grade</th>\n",
       "      <th>sub_grade</th>\n",
       "      <th>home_ownership</th>\n",
       "      <th>...</th>\n",
       "      <th>num_tl_op_past_12m</th>\n",
       "      <th>pct_tl_nvr_dlq</th>\n",
       "      <th>percent_bc_gt_75</th>\n",
       "      <th>pub_rec_bankruptcies</th>\n",
       "      <th>tax_liens</th>\n",
       "      <th>tot_hi_cred_lim</th>\n",
       "      <th>total_bal_ex_mort</th>\n",
       "      <th>total_bc_limit</th>\n",
       "      <th>total_il_high_credit_limit</th>\n",
       "      <th>hardship_flag</th>\n",
       "    </tr>\n",
       "    <tr>\n",
       "      <th>issue_d</th>\n",
       "      <th></th>\n",
       "      <th></th>\n",
       "      <th></th>\n",
       "      <th></th>\n",
       "      <th></th>\n",
       "      <th></th>\n",
       "      <th></th>\n",
       "      <th></th>\n",
       "      <th></th>\n",
       "      <th></th>\n",
       "      <th></th>\n",
       "      <th></th>\n",
       "      <th></th>\n",
       "      <th></th>\n",
       "      <th></th>\n",
       "      <th></th>\n",
       "      <th></th>\n",
       "      <th></th>\n",
       "      <th></th>\n",
       "      <th></th>\n",
       "      <th></th>\n",
       "    </tr>\n",
       "  </thead>\n",
       "  <tbody>\n",
       "    <tr>\n",
       "      <th>2007</th>\n",
       "      <td>597.0</td>\n",
       "      <td>597.0</td>\n",
       "      <td>597.0</td>\n",
       "      <td>597.0</td>\n",
       "      <td>597</td>\n",
       "      <td>597.0</td>\n",
       "      <td>597.0</td>\n",
       "      <td>597</td>\n",
       "      <td>597</td>\n",
       "      <td>597</td>\n",
       "      <td>...</td>\n",
       "      <td>597.0</td>\n",
       "      <td>597.0</td>\n",
       "      <td>597.0</td>\n",
       "      <td>597.0</td>\n",
       "      <td>597.0</td>\n",
       "      <td>597.0</td>\n",
       "      <td>597.0</td>\n",
       "      <td>597.0</td>\n",
       "      <td>597.0</td>\n",
       "      <td>597</td>\n",
       "    </tr>\n",
       "    <tr>\n",
       "      <th>2008</th>\n",
       "      <td>2382.0</td>\n",
       "      <td>2382.0</td>\n",
       "      <td>2382.0</td>\n",
       "      <td>2382.0</td>\n",
       "      <td>2382</td>\n",
       "      <td>2382.0</td>\n",
       "      <td>2382.0</td>\n",
       "      <td>2382</td>\n",
       "      <td>2382</td>\n",
       "      <td>2382</td>\n",
       "      <td>...</td>\n",
       "      <td>2382.0</td>\n",
       "      <td>2382.0</td>\n",
       "      <td>2382.0</td>\n",
       "      <td>2382.0</td>\n",
       "      <td>2382.0</td>\n",
       "      <td>2382.0</td>\n",
       "      <td>2382.0</td>\n",
       "      <td>2382.0</td>\n",
       "      <td>2382.0</td>\n",
       "      <td>2382</td>\n",
       "    </tr>\n",
       "    <tr>\n",
       "      <th>2009</th>\n",
       "      <td>5249.0</td>\n",
       "      <td>5249.0</td>\n",
       "      <td>5249.0</td>\n",
       "      <td>5249.0</td>\n",
       "      <td>5249</td>\n",
       "      <td>5249.0</td>\n",
       "      <td>5249.0</td>\n",
       "      <td>5249</td>\n",
       "      <td>5249</td>\n",
       "      <td>5249</td>\n",
       "      <td>...</td>\n",
       "      <td>5249.0</td>\n",
       "      <td>5249.0</td>\n",
       "      <td>5249.0</td>\n",
       "      <td>5249.0</td>\n",
       "      <td>5249.0</td>\n",
       "      <td>5249.0</td>\n",
       "      <td>5249.0</td>\n",
       "      <td>5249.0</td>\n",
       "      <td>5249.0</td>\n",
       "      <td>5249</td>\n",
       "    </tr>\n",
       "    <tr>\n",
       "      <th>2010</th>\n",
       "      <td>12462.0</td>\n",
       "      <td>12462.0</td>\n",
       "      <td>12462.0</td>\n",
       "      <td>12462.0</td>\n",
       "      <td>12462</td>\n",
       "      <td>12462.0</td>\n",
       "      <td>12462.0</td>\n",
       "      <td>12462</td>\n",
       "      <td>12462</td>\n",
       "      <td>12462</td>\n",
       "      <td>...</td>\n",
       "      <td>12462.0</td>\n",
       "      <td>12462.0</td>\n",
       "      <td>12462.0</td>\n",
       "      <td>12462.0</td>\n",
       "      <td>12462.0</td>\n",
       "      <td>12462.0</td>\n",
       "      <td>12462.0</td>\n",
       "      <td>12462.0</td>\n",
       "      <td>12462.0</td>\n",
       "      <td>12462</td>\n",
       "    </tr>\n",
       "    <tr>\n",
       "      <th>2011</th>\n",
       "      <td>21642.0</td>\n",
       "      <td>21642.0</td>\n",
       "      <td>21642.0</td>\n",
       "      <td>21642.0</td>\n",
       "      <td>21642</td>\n",
       "      <td>21642.0</td>\n",
       "      <td>21642.0</td>\n",
       "      <td>21642</td>\n",
       "      <td>21642</td>\n",
       "      <td>21642</td>\n",
       "      <td>...</td>\n",
       "      <td>21642.0</td>\n",
       "      <td>21642.0</td>\n",
       "      <td>21642.0</td>\n",
       "      <td>21642.0</td>\n",
       "      <td>21642.0</td>\n",
       "      <td>21642.0</td>\n",
       "      <td>21642.0</td>\n",
       "      <td>21642.0</td>\n",
       "      <td>21642.0</td>\n",
       "      <td>21642</td>\n",
       "    </tr>\n",
       "    <tr>\n",
       "      <th>2012</th>\n",
       "      <td>53181.0</td>\n",
       "      <td>53181.0</td>\n",
       "      <td>53181.0</td>\n",
       "      <td>53181.0</td>\n",
       "      <td>53181</td>\n",
       "      <td>53181.0</td>\n",
       "      <td>53181.0</td>\n",
       "      <td>53181</td>\n",
       "      <td>53181</td>\n",
       "      <td>53181</td>\n",
       "      <td>...</td>\n",
       "      <td>53181.0</td>\n",
       "      <td>53181.0</td>\n",
       "      <td>53181.0</td>\n",
       "      <td>53181.0</td>\n",
       "      <td>53181.0</td>\n",
       "      <td>53181.0</td>\n",
       "      <td>53181.0</td>\n",
       "      <td>53181.0</td>\n",
       "      <td>53181.0</td>\n",
       "      <td>53181</td>\n",
       "    </tr>\n",
       "    <tr>\n",
       "      <th>2013</th>\n",
       "      <td>134324.0</td>\n",
       "      <td>134324.0</td>\n",
       "      <td>134324.0</td>\n",
       "      <td>134324.0</td>\n",
       "      <td>134324</td>\n",
       "      <td>134324.0</td>\n",
       "      <td>134324.0</td>\n",
       "      <td>134324</td>\n",
       "      <td>134324</td>\n",
       "      <td>134324</td>\n",
       "      <td>...</td>\n",
       "      <td>134324.0</td>\n",
       "      <td>134324.0</td>\n",
       "      <td>134324.0</td>\n",
       "      <td>134324.0</td>\n",
       "      <td>134324.0</td>\n",
       "      <td>134324.0</td>\n",
       "      <td>134324.0</td>\n",
       "      <td>134324.0</td>\n",
       "      <td>134324.0</td>\n",
       "      <td>134324</td>\n",
       "    </tr>\n",
       "    <tr>\n",
       "      <th>2014</th>\n",
       "      <td>234488.0</td>\n",
       "      <td>234488.0</td>\n",
       "      <td>234488.0</td>\n",
       "      <td>234488.0</td>\n",
       "      <td>234488</td>\n",
       "      <td>234488.0</td>\n",
       "      <td>234488.0</td>\n",
       "      <td>234488</td>\n",
       "      <td>234488</td>\n",
       "      <td>234488</td>\n",
       "      <td>...</td>\n",
       "      <td>234488.0</td>\n",
       "      <td>234488.0</td>\n",
       "      <td>234488.0</td>\n",
       "      <td>234488.0</td>\n",
       "      <td>234488.0</td>\n",
       "      <td>234488.0</td>\n",
       "      <td>234488.0</td>\n",
       "      <td>234488.0</td>\n",
       "      <td>234488.0</td>\n",
       "      <td>234488</td>\n",
       "    </tr>\n",
       "    <tr>\n",
       "      <th>2015</th>\n",
       "      <td>418616.0</td>\n",
       "      <td>418616.0</td>\n",
       "      <td>418616.0</td>\n",
       "      <td>418616.0</td>\n",
       "      <td>418616</td>\n",
       "      <td>418616.0</td>\n",
       "      <td>418616.0</td>\n",
       "      <td>418616</td>\n",
       "      <td>418616</td>\n",
       "      <td>418616</td>\n",
       "      <td>...</td>\n",
       "      <td>418616.0</td>\n",
       "      <td>418616.0</td>\n",
       "      <td>418616.0</td>\n",
       "      <td>418616.0</td>\n",
       "      <td>418616.0</td>\n",
       "      <td>418616.0</td>\n",
       "      <td>418616.0</td>\n",
       "      <td>418616.0</td>\n",
       "      <td>418616.0</td>\n",
       "      <td>418616</td>\n",
       "    </tr>\n",
       "    <tr>\n",
       "      <th>2016</th>\n",
       "      <td>431227.0</td>\n",
       "      <td>431227.0</td>\n",
       "      <td>431227.0</td>\n",
       "      <td>431227.0</td>\n",
       "      <td>431227</td>\n",
       "      <td>431227.0</td>\n",
       "      <td>431227.0</td>\n",
       "      <td>431227</td>\n",
       "      <td>431227</td>\n",
       "      <td>431227</td>\n",
       "      <td>...</td>\n",
       "      <td>431227.0</td>\n",
       "      <td>431227.0</td>\n",
       "      <td>431227.0</td>\n",
       "      <td>431227.0</td>\n",
       "      <td>431227.0</td>\n",
       "      <td>431227.0</td>\n",
       "      <td>431227.0</td>\n",
       "      <td>431227.0</td>\n",
       "      <td>431227.0</td>\n",
       "      <td>431227</td>\n",
       "    </tr>\n",
       "    <tr>\n",
       "      <th>2017</th>\n",
       "      <td>439675.0</td>\n",
       "      <td>439675.0</td>\n",
       "      <td>439675.0</td>\n",
       "      <td>439675.0</td>\n",
       "      <td>439675</td>\n",
       "      <td>439675.0</td>\n",
       "      <td>439675.0</td>\n",
       "      <td>439675</td>\n",
       "      <td>439675</td>\n",
       "      <td>439675</td>\n",
       "      <td>...</td>\n",
       "      <td>439675.0</td>\n",
       "      <td>439675.0</td>\n",
       "      <td>439675.0</td>\n",
       "      <td>439675.0</td>\n",
       "      <td>439675.0</td>\n",
       "      <td>439675.0</td>\n",
       "      <td>439675.0</td>\n",
       "      <td>439675.0</td>\n",
       "      <td>439675.0</td>\n",
       "      <td>439675</td>\n",
       "    </tr>\n",
       "    <tr>\n",
       "      <th>2018</th>\n",
       "      <td>236363.0</td>\n",
       "      <td>236363.0</td>\n",
       "      <td>236363.0</td>\n",
       "      <td>236363.0</td>\n",
       "      <td>236363</td>\n",
       "      <td>236363.0</td>\n",
       "      <td>236363.0</td>\n",
       "      <td>236363</td>\n",
       "      <td>236363</td>\n",
       "      <td>236363</td>\n",
       "      <td>...</td>\n",
       "      <td>236363.0</td>\n",
       "      <td>236363.0</td>\n",
       "      <td>236363.0</td>\n",
       "      <td>236363.0</td>\n",
       "      <td>236363.0</td>\n",
       "      <td>236363.0</td>\n",
       "      <td>236363.0</td>\n",
       "      <td>236363.0</td>\n",
       "      <td>236363.0</td>\n",
       "      <td>236363</td>\n",
       "    </tr>\n",
       "  </tbody>\n",
       "</table>\n",
       "<p>12 rows × 83 columns</p>\n",
       "</div>"
      ],
      "text/plain": [
       "               id  loan_amnt  funded_amnt  funded_amnt_inv    term  int_rate  \\\n",
       "issue_d                                                                        \n",
       "2007        597.0      597.0        597.0            597.0     597     597.0   \n",
       "2008       2382.0     2382.0       2382.0           2382.0    2382    2382.0   \n",
       "2009       5249.0     5249.0       5249.0           5249.0    5249    5249.0   \n",
       "2010      12462.0    12462.0      12462.0          12462.0   12462   12462.0   \n",
       "2011      21642.0    21642.0      21642.0          21642.0   21642   21642.0   \n",
       "2012      53181.0    53181.0      53181.0          53181.0   53181   53181.0   \n",
       "2013     134324.0   134324.0     134324.0         134324.0  134324  134324.0   \n",
       "2014     234488.0   234488.0     234488.0         234488.0  234488  234488.0   \n",
       "2015     418616.0   418616.0     418616.0         418616.0  418616  418616.0   \n",
       "2016     431227.0   431227.0     431227.0         431227.0  431227  431227.0   \n",
       "2017     439675.0   439675.0     439675.0         439675.0  439675  439675.0   \n",
       "2018     236363.0   236363.0     236363.0         236363.0  236363  236363.0   \n",
       "\n",
       "         installment   grade  sub_grade  home_ownership      ...        \\\n",
       "issue_d                                                      ...         \n",
       "2007           597.0     597        597             597      ...         \n",
       "2008          2382.0    2382       2382            2382      ...         \n",
       "2009          5249.0    5249       5249            5249      ...         \n",
       "2010         12462.0   12462      12462           12462      ...         \n",
       "2011         21642.0   21642      21642           21642      ...         \n",
       "2012         53181.0   53181      53181           53181      ...         \n",
       "2013        134324.0  134324     134324          134324      ...         \n",
       "2014        234488.0  234488     234488          234488      ...         \n",
       "2015        418616.0  418616     418616          418616      ...         \n",
       "2016        431227.0  431227     431227          431227      ...         \n",
       "2017        439675.0  439675     439675          439675      ...         \n",
       "2018        236363.0  236363     236363          236363      ...         \n",
       "\n",
       "         num_tl_op_past_12m  pct_tl_nvr_dlq  percent_bc_gt_75  \\\n",
       "issue_d                                                         \n",
       "2007                  597.0           597.0             597.0   \n",
       "2008                 2382.0          2382.0            2382.0   \n",
       "2009                 5249.0          5249.0            5249.0   \n",
       "2010                12462.0         12462.0           12462.0   \n",
       "2011                21642.0         21642.0           21642.0   \n",
       "2012                53181.0         53181.0           53181.0   \n",
       "2013               134324.0        134324.0          134324.0   \n",
       "2014               234488.0        234488.0          234488.0   \n",
       "2015               418616.0        418616.0          418616.0   \n",
       "2016               431227.0        431227.0          431227.0   \n",
       "2017               439675.0        439675.0          439675.0   \n",
       "2018               236363.0        236363.0          236363.0   \n",
       "\n",
       "         pub_rec_bankruptcies  tax_liens  tot_hi_cred_lim  total_bal_ex_mort  \\\n",
       "issue_d                                                                        \n",
       "2007                    597.0      597.0            597.0              597.0   \n",
       "2008                   2382.0     2382.0           2382.0             2382.0   \n",
       "2009                   5249.0     5249.0           5249.0             5249.0   \n",
       "2010                  12462.0    12462.0          12462.0            12462.0   \n",
       "2011                  21642.0    21642.0          21642.0            21642.0   \n",
       "2012                  53181.0    53181.0          53181.0            53181.0   \n",
       "2013                 134324.0   134324.0         134324.0           134324.0   \n",
       "2014                 234488.0   234488.0         234488.0           234488.0   \n",
       "2015                 418616.0   418616.0         418616.0           418616.0   \n",
       "2016                 431227.0   431227.0         431227.0           431227.0   \n",
       "2017                 439675.0   439675.0         439675.0           439675.0   \n",
       "2018                 236363.0   236363.0         236363.0           236363.0   \n",
       "\n",
       "         total_bc_limit  total_il_high_credit_limit  hardship_flag  \n",
       "issue_d                                                             \n",
       "2007              597.0                       597.0            597  \n",
       "2008             2382.0                      2382.0           2382  \n",
       "2009             5249.0                      5249.0           5249  \n",
       "2010            12462.0                     12462.0          12462  \n",
       "2011            21642.0                     21642.0          21642  \n",
       "2012            53181.0                     53181.0          53181  \n",
       "2013           134324.0                    134324.0         134324  \n",
       "2014           234488.0                    234488.0         234488  \n",
       "2015           418616.0                    418616.0         418616  \n",
       "2016           431227.0                    431227.0         431227  \n",
       "2017           439675.0                    439675.0         439675  \n",
       "2018           236363.0                    236363.0         236363  \n",
       "\n",
       "[12 rows x 83 columns]"
      ]
     },
     "execution_count": 26,
     "metadata": {},
     "output_type": "execute_result"
    }
   ],
   "source": [
    "group = df5.groupby(df5.issue_d.dt.year)\n",
    "group.agg(np.size)"
   ]
  },
  {
   "cell_type": "code",
   "execution_count": 27,
   "metadata": {},
   "outputs": [],
   "source": [
    "#missing_fractions = df5.isnull().mean().sort_values(ascending=False)\n",
    "#drop_list = sorted(list(missing_fractions[missing_fractions > 0.3].index))"
   ]
  },
  {
   "cell_type": "markdown",
   "metadata": {},
   "source": [
    "###### For each of these features, we check the description in the Data Dictionary and only keep the features that would have been available to investors considering an investment in the loan. These include features in the loan application, and any features added by LendingClub when the loan listing was accepted, such as the loan grade and interest rate.  I am using my best available knowledge to determine which loan features are  known to potential investors. "
   ]
  },
  {
   "cell_type": "code",
   "execution_count": 28,
   "metadata": {},
   "outputs": [],
   "source": [
    "keep_list = ['addr_state', 'annual_inc', 'application_type', 'dti', 'emp_length', 'emp_title', 'fico_range_high', \n",
    "             'fico_range_low', 'grade', 'home_ownership', 'id', 'installment', 'int_rate', 'loan_amnt', 'loan_status', \n",
    "             'mort_acc', 'open_acc', 'pub_rec', 'pub_rec_bankruptcies', 'purpose', 'sub_grade', 'term', 'title', \n",
    "             'total_acc', 'verification_status', 'zip_code', 'issue_d','revol_bal','revol_util','inq_last_6mths']"
   ]
  },
  {
   "cell_type": "code",
   "execution_count": 29,
   "metadata": {},
   "outputs": [
    {
     "name": "stdout",
     "output_type": "stream",
     "text": [
      "['funded_amnt', 'funded_amnt_inv', 'pymnt_plan', 'delinq_2yrs', 'earliest_cr_line', 'initial_list_status', 'out_prncp', 'out_prncp_inv', 'total_pymnt', 'total_pymnt_inv', 'total_rec_prncp', 'total_rec_int', 'total_rec_late_fee', 'recoveries', 'collection_recovery_fee', 'last_pymnt_d', 'last_pymnt_amnt', 'last_credit_pull_d', 'last_fico_range_high', 'last_fico_range_low', 'collections_12_mths_ex_med', 'policy_code', 'acc_now_delinq', 'tot_cur_bal', 'total_rev_hi_lim', 'acc_open_past_24mths', 'avg_cur_bal', 'bc_open_to_buy', 'bc_util', 'chargeoff_within_12_mths', 'delinq_amnt', 'mo_sin_old_il_acct', 'mo_sin_old_rev_tl_op', 'mo_sin_rcnt_rev_tl_op', 'mo_sin_rcnt_tl', 'mths_since_recent_bc', 'num_accts_ever_120_pd', 'num_actv_bc_tl', 'num_actv_rev_tl', 'num_bc_sats', 'num_bc_tl', 'num_il_tl', 'num_op_rev_tl', 'num_rev_accts', 'num_rev_tl_bal_gt_0', 'num_sats', 'num_tl_120dpd_2m', 'num_tl_30dpd', 'num_tl_90g_dpd_24m', 'num_tl_op_past_12m', 'pct_tl_nvr_dlq', 'percent_bc_gt_75', 'tax_liens', 'tot_hi_cred_lim', 'total_bal_ex_mort', 'total_bc_limit', 'total_il_high_credit_limit', 'hardship_flag']\n"
     ]
    }
   ],
   "source": [
    "drop_list = [col for col in df5.columns if col not in keep_list]\n",
    "print(drop_list)"
   ]
  },
  {
   "cell_type": "code",
   "execution_count": 30,
   "metadata": {},
   "outputs": [],
   "source": [
    "df5.drop(labels=drop_list, axis=1, inplace=True)"
   ]
  },
  {
   "cell_type": "code",
   "execution_count": 31,
   "metadata": {},
   "outputs": [
    {
     "data": {
      "text/plain": [
       "36    1422140\n",
       "60     568066\n",
       "Name: term, dtype: int64"
      ]
     },
     "execution_count": 31,
     "metadata": {},
     "output_type": "execute_result"
    }
   ],
   "source": [
    "# Convert term into integer type\n",
    "df5['term'] = df5['term'].apply(lambda s: np.int8(s.split()[0]))\n",
    "df5['term'].value_counts()"
   ]
  },
  {
   "cell_type": "code",
   "execution_count": 32,
   "metadata": {},
   "outputs": [
    {
     "name": "stdout",
     "output_type": "stream",
     "text": [
      "[C, A, D, B, E, F, G]\n",
      "Categories (7, object): [C, A, D, B, E, F, G]\n",
      "[C1, A3, D1, D4, C3, ..., G3, F4, G4, F5, G5]\n",
      "Length: 35\n",
      "Categories (35, object): [C1, A3, D1, D4, ..., F4, G4, F5, G5]\n"
     ]
    }
   ],
   "source": [
    "print(df5['grade'].unique())\n",
    "print(df5['sub_grade'].unique())\n",
    "# The grade  and sub_grade provide similar information so drop the sub_grade column.\n",
    "df5.drop('sub_grade', axis=1, inplace=True)"
   ]
  },
  {
   "cell_type": "code",
   "execution_count": 33,
   "metadata": {},
   "outputs": [
    {
     "data": {
      "text/html": [
       "<div>\n",
       "<style scoped>\n",
       "    .dataframe tbody tr th:only-of-type {\n",
       "        vertical-align: middle;\n",
       "    }\n",
       "\n",
       "    .dataframe tbody tr th {\n",
       "        vertical-align: top;\n",
       "    }\n",
       "\n",
       "    .dataframe thead th {\n",
       "        text-align: right;\n",
       "    }\n",
       "</style>\n",
       "<table border=\"1\" class=\"dataframe\">\n",
       "  <thead>\n",
       "    <tr style=\"text-align: right;\">\n",
       "      <th></th>\n",
       "      <th>fico_range_low</th>\n",
       "      <th>fico_range_high</th>\n",
       "    </tr>\n",
       "  </thead>\n",
       "  <tbody>\n",
       "    <tr>\n",
       "      <th>fico_range_low</th>\n",
       "      <td>1.0</td>\n",
       "      <td>1.0</td>\n",
       "    </tr>\n",
       "    <tr>\n",
       "      <th>fico_range_high</th>\n",
       "      <td>1.0</td>\n",
       "      <td>1.0</td>\n",
       "    </tr>\n",
       "  </tbody>\n",
       "</table>\n",
       "</div>"
      ],
      "text/plain": [
       "                 fico_range_low  fico_range_high\n",
       "fico_range_low              1.0              1.0\n",
       "fico_range_high             1.0              1.0"
      ]
     },
     "execution_count": 33,
     "metadata": {},
     "output_type": "execute_result"
    }
   ],
   "source": [
    "#FICO score\n",
    "#Check the Pearson correlation between these values:\n",
    "df5[['fico_range_low','fico_range_high']].corr()"
   ]
  },
  {
   "cell_type": "code",
   "execution_count": 34,
   "metadata": {},
   "outputs": [],
   "source": [
    "# We only need to keep one of the FICO scores. We'll take the average of the two and call it fico_score:\n",
    "df5['fico_score'] = 0.5*df5['fico_range_low'] + 0.5*df5['fico_range_high']\n",
    "df5.drop(['fico_range_high', 'fico_range_low'], axis=1, inplace=True)"
   ]
  },
  {
   "cell_type": "markdown",
   "metadata": {},
   "source": [
    "###### Convert loan status to 0/1 default indicator\n",
    "    Change the response variable loan_status to a 0/1 variable, where 0 indicates fully paid and 1 indicates default. Since actual number of defaults are really small, used charged off status as an indicator of default. Called this column Default because it makes more sense for our analysis."
   ]
  },
  {
   "cell_type": "code",
   "execution_count": 35,
   "metadata": {},
   "outputs": [
    {
     "data": {
      "text/plain": [
       "Current                                                1099582\n",
       "Fully Paid                                              669286\n",
       "Charged Off                                             170240\n",
       "Late (31-120 days)                                       27535\n",
       "In Grace Period                                          13667\n",
       "Late (16-30 days)                                         7104\n",
       "Does not meet the credit policy. Status:Fully Paid        1969\n",
       "Does not meet the credit policy. Status:Charged Off        752\n",
       "Default                                                     71\n",
       "Name: loan_status, dtype: int64"
      ]
     },
     "execution_count": 35,
     "metadata": {},
     "output_type": "execute_result"
    }
   ],
   "source": [
    "df5.loan_status.value_counts()"
   ]
  },
  {
   "cell_type": "code",
   "execution_count": 36,
   "metadata": {},
   "outputs": [],
   "source": [
    "df_temp1 = df5[(df5.loan_status == 'Fully Paid')]\n",
    "df_temp2 = df5[(df5.loan_status == 'Current')]\n",
    "df_temp3 = df5[(df5.loan_status == 'Default')]\n",
    "df_temp4 = df5[(df5.loan_status == 'Charged Off')]\n",
    "\n",
    "df6 = pd.concat([df_temp1, df_temp2, df_temp3, df_temp4])\n",
    "df6.reset_index(drop=True, inplace = True)\n",
    "\n",
    "df6['loan_status'] = df6['loan_status'].replace({'Current':0, 'Fully Paid':0, 'Default':1, 'Charged Off':1})\n",
    "df6['default'] = df6['loan_status'].astype('int')\n",
    "df6.drop(['loan_status'], axis=1, inplace=True)\n"
   ]
  },
  {
   "cell_type": "code",
   "execution_count": 37,
   "metadata": {},
   "outputs": [],
   "source": [
    "df6.dropna(axis = 0, inplace = True)"
   ]
  },
  {
   "cell_type": "code",
   "execution_count": 38,
   "metadata": {},
   "outputs": [
    {
     "data": {
      "image/png": "[encoded data removed]",
      "text/plain": [
       "<Figure size 432x288 with 1 Axes>"
      ]
     },
     "metadata": {
      "needs_background": "light"
     },
     "output_type": "display_data"
    }
   ],
   "source": [
    "# Draw the histogram of annual income\n",
    "\n",
    "sns.distplot(df6['annual_inc'], hist=True, kde=True, bins=50, color = 'darkblue')\n",
    "\n",
    "plt.xlabel('annual Income')\n",
    "plt.ylabel('Number of borrowers')\n",
    "plt.show()"
   ]
  },
  {
   "cell_type": "code",
   "execution_count": 39,
   "metadata": {},
   "outputs": [],
   "source": [
    "# Dataset is ready for further EDA and Data Modelling. Saved the dataset as clean_loan.csv.\n",
    "df6.to_csv(\"clean_loan.csv\")"
   ]
  }
 ],
 "metadata": {
  "kernelspec": {
   "display_name": "Python 3",
   "language": "python",
   "name": "python3"
  },
  "language_info": {
   "codemirror_mode": {
    "name": "ipython",
    "version": 3
   },
   "file_extension": ".py",
   "mimetype": "text/x-python",
   "name": "python",
   "nbconvert_exporter": "python",
   "pygments_lexer": "ipython3",
   "version": "3.7.1"
  }
 },
 "nbformat": 4,
 "nbformat_minor": 2
}
